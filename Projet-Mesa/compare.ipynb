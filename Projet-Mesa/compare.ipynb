{
 "cells": [
  {
   "cell_type": "code",
   "execution_count": 3,
   "metadata": {
    "collapsed": true
   },
   "outputs": [],
   "source": [
    "from boxes.agents import DummyAgent, SmartAgent\n",
    "from boxes.models import SimpleModel, AssigningModel"
   ]
  },
  {
   "cell_type": "code",
   "execution_count": 4,
   "outputs": [],
   "source": [
    "import numpy as np"
   ],
   "metadata": {
    "collapsed": false,
    "pycharm": {
     "name": "#%%\n"
    }
   }
  },
  {
   "cell_type": "code",
   "execution_count": 9,
   "outputs": [],
   "source": [
    "random_steps = np.array([820, 340, 1110, 450, 800, 675, 780, 517, 670, 670, 650, 880, 500, 700, 546, 490, 645, 587, 1045, 519, 739, 600, 726, 388, 696])\n",
    "smart_steps = np.array([97, 94, 90, 65, 80, 90, 94, 79, 84, 99, 86, 90, 83, 90, 62, 79, 82, 86, 81, 78, 84, 80, 94, 71, 76])"
   ],
   "metadata": {
    "collapsed": false,
    "pycharm": {
     "name": "#%%\n"
    }
   }
  },
  {
   "cell_type": "code",
   "execution_count": 7,
   "outputs": [],
   "source": [
    "def print_res(res : np.ndarray) :\n",
    "    print(f\"Number of runs : {res.shape[0]}\\n\"\n",
    "          f\"Mean : {np.mean(res)}\\n\"\n",
    "          f\"STD  : {np.std(res)}\\n\"\n",
    "          f\"Max  : {np.max(res)}\\n\"\n",
    "          f\"Min  : {np.min(res)}\")"
   ],
   "metadata": {
    "collapsed": false,
    "pycharm": {
     "name": "#%%\n"
    }
   }
  },
  {
   "cell_type": "code",
   "execution_count": 8,
   "outputs": [
    {
     "name": "stdout",
     "output_type": "stream",
     "text": [
      "Number of runs : 25\n",
      "Mean : 661.72\n",
      "STD  : 180.01478161528848\n",
      "Max  : 1110\n",
      "Min  : 340\n"
     ]
    }
   ],
   "source": [
    "print_res(random_steps)"
   ],
   "metadata": {
    "collapsed": false,
    "pycharm": {
     "name": "#%%\n"
    }
   }
  },
  {
   "cell_type": "code",
   "execution_count": 10,
   "outputs": [
    {
     "name": "stdout",
     "output_type": "stream",
     "text": [
      "Number of runs : 25\n",
      "Mean : 83.76\n",
      "STD  : 9.065450898879769\n",
      "Max  : 99\n",
      "Min  : 62\n"
     ]
    }
   ],
   "source": [
    "print_res(smart_steps)"
   ],
   "metadata": {
    "collapsed": false,
    "pycharm": {
     "name": "#%%\n"
    }
   }
  },
  {
   "cell_type": "code",
   "execution_count": null,
   "outputs": [],
   "source": [],
   "metadata": {
    "collapsed": false,
    "pycharm": {
     "name": "#%%\n"
    }
   }
  }
 ],
 "metadata": {
  "kernelspec": {
   "display_name": "Python 3",
   "language": "python",
   "name": "python3"
  },
  "language_info": {
   "codemirror_mode": {
    "name": "ipython",
    "version": 2
   },
   "file_extension": ".py",
   "mimetype": "text/x-python",
   "name": "python",
   "nbconvert_exporter": "python",
   "pygments_lexer": "ipython2",
   "version": "2.7.6"
  }
 },
 "nbformat": 4,
 "nbformat_minor": 0
}